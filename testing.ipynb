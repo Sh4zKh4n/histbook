{
 "cells": [
  {
   "cell_type": "code",
   "execution_count": 1,
   "metadata": {},
   "outputs": [],
   "source": [
    "import pandas\n",
    "import altair"
   ]
  },
  {
   "cell_type": "code",
   "execution_count": 2,
   "metadata": {},
   "outputs": [],
   "source": [
    "df = pandas.DataFrame(index=pandas.interval_range(start=0, end=100, freq=10, closed=\"left\"), columns=[\"sumw\"])\n",
    "df.sumw = [0, 12, 40, 125, 266, 1032, 377, 185, 21, 5]"
   ]
  },
  {
   "cell_type": "code",
   "execution_count": 3,
   "metadata": {},
   "outputs": [
    {
     "data": {
      "text/html": [
       "<div>\n",
       "<style scoped>\n",
       "    .dataframe tbody tr th:only-of-type {\n",
       "        vertical-align: middle;\n",
       "    }\n",
       "\n",
       "    .dataframe tbody tr th {\n",
       "        vertical-align: top;\n",
       "    }\n",
       "\n",
       "    .dataframe thead th {\n",
       "        text-align: right;\n",
       "    }\n",
       "</style>\n",
       "<table border=\"1\" class=\"dataframe\">\n",
       "  <thead>\n",
       "    <tr style=\"text-align: right;\">\n",
       "      <th></th>\n",
       "      <th>sumw</th>\n",
       "    </tr>\n",
       "  </thead>\n",
       "  <tbody>\n",
       "    <tr>\n",
       "      <th>[0, 10)</th>\n",
       "      <td>0</td>\n",
       "    </tr>\n",
       "    <tr>\n",
       "      <th>[10, 20)</th>\n",
       "      <td>12</td>\n",
       "    </tr>\n",
       "    <tr>\n",
       "      <th>[20, 30)</th>\n",
       "      <td>40</td>\n",
       "    </tr>\n",
       "    <tr>\n",
       "      <th>[30, 40)</th>\n",
       "      <td>125</td>\n",
       "    </tr>\n",
       "    <tr>\n",
       "      <th>[40, 50)</th>\n",
       "      <td>266</td>\n",
       "    </tr>\n",
       "    <tr>\n",
       "      <th>[50, 60)</th>\n",
       "      <td>1032</td>\n",
       "    </tr>\n",
       "    <tr>\n",
       "      <th>[60, 70)</th>\n",
       "      <td>377</td>\n",
       "    </tr>\n",
       "    <tr>\n",
       "      <th>[70, 80)</th>\n",
       "      <td>185</td>\n",
       "    </tr>\n",
       "    <tr>\n",
       "      <th>[80, 90)</th>\n",
       "      <td>21</td>\n",
       "    </tr>\n",
       "    <tr>\n",
       "      <th>[90, 100)</th>\n",
       "      <td>5</td>\n",
       "    </tr>\n",
       "  </tbody>\n",
       "</table>\n",
       "</div>"
      ],
      "text/plain": [
       "           sumw\n",
       "[0, 10)       0\n",
       "[10, 20)     12\n",
       "[20, 30)     40\n",
       "[30, 40)    125\n",
       "[40, 50)    266\n",
       "[50, 60)   1032\n",
       "[60, 70)    377\n",
       "[70, 80)    185\n",
       "[80, 90)     21\n",
       "[90, 100)     5"
      ]
     },
     "execution_count": 3,
     "metadata": {},
     "output_type": "execute_result"
    }
   ],
   "source": [
    "df"
   ]
  },
  {
   "cell_type": "code",
   "execution_count": 6,
   "metadata": {},
   "outputs": [],
   "source": [
    "def plothist(df, level=0):\n",
    "    ascolumn = df.reset_index(level=level)\n",
    "    lastrow = ascolumn.iloc[[-1]].copy()\n",
    "    ascolumn[\"index\"] = ascolumn[\"index\"].apply(lambda x: x.left)\n",
    "    lastrow[\"index\"] = lastrow[\"index\"].apply(lambda x: x.right)\n",
    "    ascolumn = pandas.concat([ascolumn, lastrow])\n",
    "    return altair.Chart(ascolumn).mark_line(interpolate=\"step-before\").encode(x=\"index\", y=\"sumw\")"
   ]
  },
  {
   "cell_type": "code",
   "execution_count": 7,
   "metadata": {},
   "outputs": [
    {
     "data": {
      "text/html": [
       "<div class=\"vega-embed\" id=\"a02540dd-bb1f-4feb-93a2-d600bbb1d6a3\"></div>\n",
       "\n",
       "<style>\n",
       ".vega-embed svg, .vega-embed canvas {\n",
       "  border: 1px dotted gray;\n",
       "}\n",
       "\n",
       ".vega-embed .vega-actions a {\n",
       "  margin-right: 6px;\n",
       "}\n",
       "</style>\n"
      ]
     },
     "metadata": {
      "jupyter-vega": "#a02540dd-bb1f-4feb-93a2-d600bbb1d6a3"
     },
     "output_type": "display_data"
    },
    {
     "data": {
      "application/javascript": [
       "var spec = {\"data\": {\"values\": [{\"sumw\": 0, \"index\": 0}, {\"sumw\": 12, \"index\": 10}, {\"sumw\": 40, \"index\": 20}, {\"sumw\": 125, \"index\": 30}, {\"sumw\": 266, \"index\": 40}, {\"sumw\": 1032, \"index\": 50}, {\"sumw\": 377, \"index\": 60}, {\"sumw\": 185, \"index\": 70}, {\"sumw\": 21, \"index\": 80}, {\"sumw\": 5, \"index\": 90}, {\"sumw\": 5, \"index\": 100}]}, \"$schema\": \"https://vega.github.io/schema/vega-lite/v1.2.1.json\", \"encoding\": {\"y\": {\"field\": \"sumw\", \"type\": \"quantitative\"}, \"x\": {\"field\": \"index\", \"type\": \"quantitative\"}}, \"config\": {\"cell\": {\"width\": 500, \"height\": 350}, \"mark\": {\"interpolate\": \"step-before\"}}, \"mark\": \"line\"};\n",
       "var selector = \"#a02540dd-bb1f-4feb-93a2-d600bbb1d6a3\";\n",
       "var type = \"vega-lite\";\n",
       "\n",
       "var output_area = this;\n",
       "require(['nbextensions/jupyter-vega/index'], function(vega) {\n",
       "  vega.render(selector, spec, type, output_area);\n",
       "}, function (err) {\n",
       "  if (err.requireType !== 'scripterror') {\n",
       "    throw(err);\n",
       "  }\n",
       "});\n"
      ]
     },
     "metadata": {
      "jupyter-vega": "#a02540dd-bb1f-4feb-93a2-d600bbb1d6a3"
     },
     "output_type": "display_data"
    },
    {
     "data": {
      "image/png": "[encoded data removed]"
     },
     "metadata": {
      "jupyter-vega": "#a02540dd-bb1f-4feb-93a2-d600bbb1d6a3"
     },
     "output_type": "display_data"
    }
   ],
   "source": [
    "plothist(df)"
   ]
  },
  {
   "cell_type": "code",
   "execution_count": null,
   "metadata": {},
   "outputs": [],
   "source": []
  }
 ],
 "metadata": {
  "kernelspec": {
   "display_name": "Python 2",
   "language": "python",
   "name": "python2"
  },
  "language_info": {
   "codemirror_mode": {
    "name": "ipython",
    "version": 2
   },
   "file_extension": ".py",
   "mimetype": "text/x-python",
   "name": "python",
   "nbconvert_exporter": "python",
   "pygments_lexer": "ipython2",
   "version": "2.7.12"
  }
 },
 "nbformat": 4,
 "nbformat_minor": 2
}
