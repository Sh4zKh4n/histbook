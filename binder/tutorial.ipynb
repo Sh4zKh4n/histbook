{
 "cells": [
  {
   "cell_type": "code",
   "execution_count": 1,
   "metadata": {},
   "outputs": [],
   "source": [
    "from histbook import *\n",
    "import numpy\n",
    "from vega import VegaLite as canvas"
   ]
  },
  {
   "cell_type": "code",
   "execution_count": 4,
   "metadata": {},
   "outputs": [
    {
     "data": {
      "text/html": [
       "<div class=\"vega-embed\" id=\"4dfeca9b-27fa-42a4-a2d2-dfc586731cfb\"></div>\n",
       "\n",
       "<style>\n",
       ".vega-embed .error p {\n",
       "    color: firebrick;\n",
       "    font-size: 14px;\n",
       "}\n",
       "</style>\n"
      ]
     },
     "metadata": {
      "jupyter-vega": "#4dfeca9b-27fa-42a4-a2d2-dfc586731cfb"
     },
     "output_type": "display_data"
    },
    {
     "data": {
      "application/javascript": [
       "var spec = {\"$schema\": \"https://vega.github.io/schema/vega-lite/v2.json\", \"width\": null, \"height\": null, \"title\": null, \"config\": null, \"data\": {\"values\": [{\"a0\": -5.0, \"a1\": 0.0}, {\"a0\": -4.999999999, \"a1\": 2.0}, {\"a0\": -4.6, \"a1\": 12.0}, {\"a0\": -4.2, \"a1\": 59.0}, {\"a0\": -3.8, \"a1\": 268.0}, {\"a0\": -3.4, \"a1\": 1028.0}, {\"a0\": -3.0, \"a1\": 3268.0}, {\"a0\": -2.6, \"a1\": 9217.0}, {\"a0\": -2.1999999999999997, \"a1\": 21815.0}, {\"a0\": -1.7999999999999998, \"a1\": 44491.0}, {\"a0\": -1.4000000000000004, \"a1\": 77817.0}, {\"a0\": -1.0, \"a1\": 116210.0}, {\"a0\": -0.5999999999999996, \"a1\": 147243.0}, {\"a0\": -0.20000000000000018, \"a1\": 158265.0}, {\"a0\": 0.20000000000000018, \"a1\": 146224.0}, {\"a0\": 0.6000000000000005, \"a1\": 115149.0}, {\"a0\": 1.0, \"a1\": 77814.0}, {\"a0\": 1.4000000000000004, \"a1\": 44967.0}, {\"a0\": 1.8000000000000007, \"a1\": 22108.0}, {\"a0\": 2.1999999999999993, \"a1\": 9361.0}, {\"a0\": 2.5999999999999996, \"a1\": 3367.0}, {\"a0\": 3.0, \"a1\": 963.0}, {\"a0\": 3.4000000000000004, \"a1\": 277.0}, {\"a0\": 3.8000000000000007, \"a1\": 65.0}, {\"a0\": 4.200000000000001, \"a1\": 9.0}, {\"a0\": 4.6, \"a1\": 1.0}, {\"a0\": 5.0, \"a1\": 0.0}]}, \"mark\": {\"type\": \"line\", \"interpolate\": \"step-before\"}, \"encoding\": {\"x\": {\"field\": \"a0\", \"type\": \"quantitative\", \"scale\": {\"zero\": false}, \"axis\": {\"title\": \"data\"}}, \"y\": {\"field\": \"a1\", \"type\": \"quantitative\", \"axis\": {\"title\": \"entries per bin\"}}}, \"transform\": []};\n",
       "var opt = {};\n",
       "var selector = \"#4dfeca9b-27fa-42a4-a2d2-dfc586731cfb\";\n",
       "var type = \"vega-lite\";\n",
       "\n",
       "var output_area = this;\n",
       "\n",
       "require(['nbextensions/jupyter-vega/index'], function(vega) {\n",
       "  vega.render(selector, spec, type, opt, output_area);\n",
       "}, function (err) {\n",
       "  if (err.requireType !== 'scripterror') {\n",
       "    throw(err);\n",
       "  }\n",
       "});\n"
      ]
     },
     "metadata": {
      "jupyter-vega": "#4dfeca9b-27fa-42a4-a2d2-dfc586731cfb"
     },
     "output_type": "display_data"
    },
    {
     "data": {
      "image/png": "[encoded data removed]"
     },
     "metadata": {
      "jupyter-vega": "#4dfeca9b-27fa-42a4-a2d2-dfc586731cfb"
     },
     "output_type": "display_data"
    }
   ],
   "source": [
    "array = numpy.random.normal(0, 1, 1000000)\n",
    "histogram = Hist(bin(\"data\", 25, -5, 5))\n",
    "histogram.fill(data=array)\n",
    "histogram.step(\"data\").to(canvas)"
   ]
  },
  {
   "cell_type": "code",
   "execution_count": null,
   "metadata": {},
   "outputs": [],
   "source": []
  }
 ],
 "metadata": {
  "kernelspec": {
   "display_name": "Python 3",
   "language": "python",
   "name": "python3"
  },
  "language_info": {
   "codemirror_mode": {
    "name": "ipython",
    "version": 3
   },
   "file_extension": ".py",
   "mimetype": "text/x-python",
   "name": "python",
   "nbconvert_exporter": "python",
   "pygments_lexer": "ipython3",
   "version": "3.6.5"
  }
 },
 "nbformat": 4,
 "nbformat_minor": 2
}
